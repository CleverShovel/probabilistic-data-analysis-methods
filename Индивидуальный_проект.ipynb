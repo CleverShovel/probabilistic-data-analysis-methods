{
  "cells": [
    {
      "cell_type": "markdown",
      "metadata": {
        "id": "AZ6H4QwzaHsQ"
      },
      "source": [
        "# AI-ветеринар: Искусственный интеллект на страже здоровья буренок"
      ]
    },
    {
      "cell_type": "markdown",
      "metadata": {
        "id": "bMr-ZYZHeULc"
      },
      "source": [
        "Данные содержат поле “text” с описаниями признаков болезней в свободной форме от пользователей и 11 полей с возможными заболеваниями (1 - есть заболевания, 0 - нет):\n",
        "\n",
        "- эймериоз\n",
        "- абсцесс\n",
        "- диспепсия молодняка\n",
        "- остертагиоз\n",
        "- мастит\n",
        "- инфекционный ринотрахеит\n",
        "- отёк вымени\n",
        "- тенденит\n",
        "- сибирская язва\n",
        "- лишай\n",
        "- другое (иные заболевания)\n",
        "\n",
        "Класс «другое» означает, что по описанию болезни также можно предположить наличие какой-то иной болезни (не из заданных 10)\n",
        "\n",
        "В рамках задачи нужно предсказать\n",
        "1. label – вероятность каждого из 11 возможных заболеваний **(порядок соответствует списку выше)**\n",
        "2. span – индексы начала и конца размеченных признаков болезни\n",
        "\n",
        "Первая подзадача является multilabel классификацией, то есть для каждого примера возможно наличие нескольких болезней. Метрикой в данном случае является значение 1 - LogLoss. Был также дан бейзлайн, который решал данную подзадачу.\n",
        "\n",
        "Вторая подзадача является задачей классификацией токенов. Как метрика считается F1-score между истинными токенами (словами) и предсказанными. Никакого бейзлайна не дано.\n",
        "\n",
        "Более подробно рассказано здесь https://russianhackers.notion.site/AI-7b798dfd94a9416ea5353a6aa16790d5\n",
        "\n",
        "|Что надо сделать|Задача|Количество размеченных данных|Метрика|Наличие бейзлайна|\n",
        "|-|-|:-:|-|:-:|\n",
        "|Найти вероятность болезней по тексту|multilabel классификация болезней|294|1 - LogLoss|Да|\n",
        "|Найти признаки болезней в тексте|классификация токенов|30|F1 между истинными и предсказанными токенами|Нет|"
      ]
    },
    {
      "cell_type": "markdown",
      "metadata": {
        "id": "QC7a_8yAZ5tk"
      },
      "source": [
        "В бейзлайне для первой подзадачи лосс получился равен 0.3409663042406871."
      ]
    },
    {
      "cell_type": "markdown",
      "metadata": {
        "id": "fZiGoGh7Z0Uv"
      },
      "source": [
        "# Подготовка окружения"
      ]
    },
    {
      "cell_type": "code",
      "execution_count": null,
      "metadata": {
        "id": "fkHf0NmrAHdT"
      },
      "outputs": [],
      "source": [
        "from google.colab import drive\n",
        "drive.mount('/content/drive')\n",
        "\n",
        "!unzip \"/content/drive/My Drive/agrocode/ds/train.zip\"\n",
        "!unzip \"/content/drive/My Drive/agrocode/ds/test.csv.zip\""
      ]
    },
    {
      "cell_type": "code",
      "execution_count": null,
      "metadata": {
        "id": "DGEKUE2wHLzd"
      },
      "outputs": [],
      "source": [
        "# fasttext модель, обученная на датасете RuDRec\n",
        "# https://drive.google.com/file/d/1su3IYY1avcj95tez69JI8f5qsTng72-I/view\n",
        "!git clone https://github.com/matthuisman/gdrivedl.git\n",
        "file_id = '1su3IYY1avcj95tez69JI8f5qsTng72-I'\n",
        "!python ./gdrivedl/gdrivedl.py $file_id"
      ]
    },
    {
      "cell_type": "code",
      "execution_count": null,
      "metadata": {
        "id": "sTzJ70iRFNyx"
      },
      "outputs": [],
      "source": [
        "!pip install catboost\n",
        "!pip install datasets\n",
        "!pip install transformers\n",
        "!pip install optuna\n",
        "!pip install fasttext\n",
        "!pip install rusenttokenize\n",
        "\n",
        "!pip install summa"
      ]
    },
    {
      "cell_type": "markdown",
      "metadata": {
        "id": "UdtC0qTS1T6l"
      },
      "source": [
        "# Импорт модулей"
      ]
    },
    {
      "cell_type": "markdown",
      "metadata": {
        "id": "_94So-GrpHQW"
      },
      "source": [
        "Здесь импортирую модули и фиксирую сиды для воспроизводимости."
      ]
    },
    {
      "cell_type": "code",
      "execution_count": 5,
      "metadata": {
        "colab": {
          "base_uri": "https://localhost:8080/"
        },
        "id": "QtHWGre91T6o",
        "outputId": "ed4f7b4b-cea4-4d16-a7ec-9d3446fd08a3"
      },
      "outputs": [
        {
          "name": "stdout",
          "output_type": "stream",
          "text": [
            "[nltk_data] Downloading package stopwords to /root/nltk_data...\n",
            "[nltk_data]   Package stopwords is already up-to-date!\n"
          ]
        }
      ],
      "source": [
        "import json\n",
        "import os\n",
        "import random\n",
        "import re\n",
        "from itertools import chain\n",
        "from collections import Counter\n",
        "\n",
        "import pandas as pd\n",
        "import numpy as np\n",
        "import matplotlib.pyplot as plt\n",
        "from catboost import CatBoostClassifier\n",
        "from sklearn.model_selection import train_test_split\n",
        "from sklearn.multiclass import OneVsRestClassifier\n",
        "from sklearn import metrics\n",
        "from sklearn.metrics.pairwise import cosine_similarity\n",
        "from sklearn.model_selection import LeaveOneOut\n",
        "from sklearn.svm import SVC\n",
        "\n",
        "import torch\n",
        "from torch import nn\n",
        "import transformers\n",
        "from transformers import (\n",
        "    AutoModel,\n",
        "    AutoModelForSequenceClassification,\n",
        "    AutoTokenizer, \n",
        "    BertForSequenceClassification,\n",
        "    BertTokenizer, \n",
        "    FSMTModel, \n",
        "    FSMTTokenizer, \n",
        "    FSMTForConditionalGeneration,\n",
        "    Trainer, \n",
        "    TrainingArguments,\n",
        ")\n",
        "import datasets\n",
        "from datasets import Dataset\n",
        "import optuna\n",
        "from optuna.samplers import TPESampler\n",
        "from rusenttokenize import ru_sent_tokenize\n",
        "import fasttext\n",
        "import fasttext.util\n",
        "from tqdm.notebook import tqdm\n",
        "\n",
        "import nltk\n",
        "nltk.download(\"stopwords\")\n",
        "from nltk.corpus import stopwords\n",
        "\n",
        "from summa.summarizer import summarize\n",
        "from summa import keywords\n",
        "\n",
        "russian_stopwords = stopwords.words(\"russian\")\n",
        "\n",
        "SEED = 42\n",
        "torch.manual_seed(SEED)\n",
        "random.seed(SEED)\n",
        "np.random.seed(SEED)\n",
        "transformers.set_seed(SEED)\n",
        "\n",
        "PATH = 'sberbank-ai/ruBert-base'\n",
        "\n",
        "# делать ли аугментацию данных\n",
        "AUG = False\n",
        "\n",
        "# параметр max_length в токенизаторе\n",
        "MAX_LENGTH = 256\n",
        "\n",
        "# суммаризовать ли тексты - то есть извлечь самые важные предложения, уменьшив таким образом текст, \n",
        "# чтобы токенизатор мог их полностью переводить в токены\n",
        "USE_SUMMARIZE = False\n",
        "MAX_WORDS = 200"
      ]
    },
    {
      "cell_type": "code",
      "execution_count": 6,
      "metadata": {
        "id": "CnMXx6g4VLnk"
      },
      "outputs": [],
      "source": [
        "def load_model(path):\n",
        "    if not os.path.exists(path):\n",
        "        if path == 'sberbank-ai/ruBert-base':\n",
        "            tokenizer = BertTokenizer.from_pretrained(path)\n",
        "            model = BertForSequenceClassification.from_pretrained(path, num_labels=11)\n",
        "            tokenizer.save_pretrained(path)\n",
        "            model.save_pretrained(path)\n",
        "        else:\n",
        "            tokenizer = AutoTokenizer.from_pretrained(path)\n",
        "            model = AutoModel.from_pretrained(path, num_labels=11)\n",
        "            tokenizer.save_pretrained(path)\n",
        "            model.save_pretrained(path)\n",
        "    else:\n",
        "        if 'sberbank' in path:\n",
        "            tokenizer = BertTokenizer.from_pretrained(path)\n",
        "        else:\n",
        "            tokenizer = AutoTokenizer.from_pretrained(path)\n",
        "\n",
        "    def model_init():\n",
        "        return AutoModelForSequenceClassification.from_pretrained(\n",
        "            path, num_labels=11, problem_type = \"multi_label_classification\")\n",
        "    \n",
        "    return tokenizer, model_init"
      ]
    },
    {
      "cell_type": "markdown",
      "metadata": {
        "id": "fZsstfhpwOef"
      },
      "source": [
        "Предобработка как в ноутбуке https://github.com/cimm-kzn/RuDReC/blob/master/examples/Raw_preprocessing.ipynb\n",
        "\n",
        "Это нужно, чтобы использовать модель FastText из того же репозитория."
      ]
    },
    {
      "cell_type": "code",
      "execution_count": 7,
      "metadata": {
        "id": "qHrywGI_RtdF"
      },
      "outputs": [],
      "source": [
        "def list_replace(search, replacement, text):\n",
        "    \"\"\"\n",
        "    Replaces all symbols of text which are present\n",
        "    in the search string with the replacement string.\n",
        "    \"\"\"\n",
        "    search = [el for el in search if el in text]\n",
        "    for c in search:\n",
        "        text = text.replace(c, replacement)\n",
        "    return text\n",
        "\n",
        "def clean_text(text):\n",
        "\n",
        "    text = list_replace \\\n",
        "        ('\\u00AB\\u00BB\\u2039\\u203A\\u201E\\u201A\\u201C\\u201F\\u2018\\u201B\\u201D\\u2019', '\\u0022', text)\n",
        "\n",
        "    text = list_replace \\\n",
        "        ('\\u2012\\u2013\\u2014\\u2015\\u203E\\u0305\\u00AF', '\\u2003\\u002D\\u002D\\u2003', text)\n",
        "\n",
        "    text = list_replace('\\u2010\\u2011', '\\u002D', text)\n",
        "\n",
        "    text = list_replace \\\n",
        "            (\n",
        "            '\\u2000\\u2001\\u2002\\u2004\\u2005\\u2006\\u2007\\u2008\\u2009\\u200A\\u200B\\u202F\\u205F\\u2060\\u3000',\n",
        "            '\\u2002', text)\n",
        "\n",
        "    text = re.sub('\\u2003\\u2003', '\\u2003', text)\n",
        "    text = re.sub('\\t\\t', '\\t', text)\n",
        "\n",
        "    text = list_replace \\\n",
        "            (\n",
        "            '\\u02CC\\u0307\\u0323\\u2022\\u2023\\u2043\\u204C\\u204D\\u2219\\u25E6\\u00B7\\u00D7\\u22C5\\u2219\\u2062',\n",
        "            '.', text)\n",
        "\n",
        "    text = list_replace('\\u2217', '\\u002A', text)\n",
        "\n",
        "    text = list_replace('…', '...', text)\n",
        "    text = list_replace('\\u00C4', 'A', text)\n",
        "    text = list_replace('\\u00E4', 'a', text)\n",
        "    text = list_replace('\\u00CB', 'E', text)\n",
        "    text = list_replace('\\u00EB', 'e', text)\n",
        "    text = list_replace('\\u1E26', 'H', text)\n",
        "    text = list_replace('\\u1E27', 'h', text)\n",
        "    text = list_replace('\\u00CF', 'I', text)\n",
        "    text = list_replace('\\u00EF', 'i', text)\n",
        "    text = list_replace('\\u00D6', 'O', text)\n",
        "    text = list_replace('\\u00F6', 'o', text)\n",
        "    text = list_replace('\\u00DC', 'U', text)\n",
        "    text = list_replace('\\u00FC', 'u', text)\n",
        "    text = list_replace('\\u0178', 'Y', text)\n",
        "    text = list_replace('\\u00FF', 'y', text)\n",
        "    text = list_replace('\\u00DF', 's', text)\n",
        "    text = list_replace('\\u1E9E', 'S', text)\n",
        "    # Removing punctuation\n",
        "    text = list_replace(',.[]{}()=+-−*&^%$#@!~;:§/\\|\\?\"\\n', ' ', text)\n",
        "    # Replacing all numbers with masks\n",
        "    text = list_replace('0123456789', 'x', text)\n",
        "\n",
        "    currencies = list \\\n",
        "            (\n",
        "            '\\u20BD\\u0024\\u00A3\\u20A4\\u20AC\\u20AA\\u2133\\u20BE\\u00A2\\u058F\\u0BF9\\u20BC\\u20A1\\u20A0\\u20B4\\u20A7\\u20B0\\u20BF\\u20A3\\u060B\\u0E3F\\u20A9\\u20B4\\u20B2\\u0192\\u20AB\\u00A5\\u20AD\\u20A1\\u20BA\\u20A6\\u20B1\\uFDFC\\u17DB\\u20B9\\u20A8\\u20B5\\u09F3\\u20B8\\u20AE\\u0192'\n",
        "        )\n",
        "\n",
        "    alphabet = list \\\n",
        "            (\n",
        "            '\\t\\r абвгдеёзжийклмнопрстуфхцчшщьыъэюяАБВГДЕЁЗЖИЙКЛМНОПРСТУФХЦЧШЩЬЫЪЭЮЯabcdefghijklmnopqrstuvwxyzABCDEFGHIJKLMNOPQRSTUVWXYZ ')\n",
        "\n",
        "    allowed = set(currencies + alphabet)\n",
        "\n",
        "    cleaned_text = [sym for sym in text if sym in allowed]\n",
        "    cleaned_text = ''.join(cleaned_text)\n",
        "\n",
        "    # cleaned_text = re.sub(' +', ' ', cleaned_text)\n",
        "\n",
        "    return cleaned_text.lower()"
      ]
    },
    {
      "cell_type": "markdown",
      "metadata": {
        "id": "Alzp-EDkVDxy"
      },
      "source": [
        "# Перефразирование обучающих примеров"
      ]
    },
    {
      "cell_type": "markdown",
      "metadata": {
        "id": "0fxDb3yatT9E"
      },
      "source": [
        "Код из этой статьи https://habr.com/ru/post/564916/\n",
        "\n",
        "Перефразирование текстов является хорошей аугментацией для текста, так как при перефразирование смысл сохраняется, но используются уже другие слова.\n",
        "\n",
        "В моем случае не было заметного улучшения между тем, чтобы обучаться на исходных текстах и перефразированных или только исходных. Поэтому я решил не использовать данный метод."
      ]
    },
    {
      "cell_type": "code",
      "execution_count": 8,
      "metadata": {
        "id": "37rLPUbFVJto"
      },
      "outputs": [],
      "source": [
        "class Paraphraser:\n",
        "    def __init__(self):\n",
        "        self.tokenizer = FSMTTokenizer.from_pretrained(\"facebook/wmt19-en-ru\")\n",
        "        self.model = FSMTForConditionalGeneration.from_pretrained(\"facebook/wmt19-en-ru\")\n",
        "        self.inverse_tokenizer = FSMTTokenizer.from_pretrained(\"facebook/wmt19-ru-en\")\n",
        "        self.inverse_model = FSMTForConditionalGeneration.from_pretrained(\"facebook/wmt19-ru-en\")\n",
        "        self.model.cuda()\n",
        "        self.inverse_model.cuda()\n",
        "\n",
        "    def paraphrase(self, text, gram=4, num_beams=5, **kwargs):\n",
        "        \"\"\" Generate a paraphrase using back translation. \n",
        "        Parameter `gram` denotes size of token n-grams of the original sentence that cannot appear in the paraphrase.\n",
        "        \"\"\"\n",
        "        input_ids = self.inverse_tokenizer.encode(text, return_tensors=\"pt\")\n",
        "        with torch.no_grad():\n",
        "            outputs = self.inverse_model.generate(input_ids.to(self.inverse_model.device), num_beams=num_beams, **kwargs)\n",
        "        other_lang = self.inverse_tokenizer.decode(outputs[0], skip_special_tokens=True)\n",
        "        input_ids = input_ids[0, :-1].tolist()\n",
        "        bad_word_ids = [input_ids[i:(i+gram)] for i in range(len(input_ids)-gram)]\n",
        "        if len(bad_word_ids) == 0:\n",
        "            bad_word_ids = None\n",
        "        input_ids = self.tokenizer.encode(other_lang, return_tensors=\"pt\")\n",
        "        with torch.no_grad():\n",
        "            outputs = self.model.generate(input_ids.to(self.model.device), num_beams=num_beams, bad_words_ids=bad_word_ids, **kwargs)\n",
        "        decoded = self.tokenizer.decode(outputs[0], skip_special_tokens=True)\n",
        "        return decoded\n",
        "\n",
        "    def paraphrase_example(self, example):\n",
        "        sents = ru_sent_tokenize(example)\n",
        "        return ' '.join(self.paraphrase(sent, max_length=128) for sent in sents)"
      ]
    },
    {
      "cell_type": "markdown",
      "metadata": {
        "id": "5d1BD6CNrF13"
      },
      "source": [
        "Функция, которая вычисляет метрику для первой подзадачи\n",
        "\n",
        "В качестве \"gt\" (ground truth) функция принимает на вход датафрейм/массив из 10 столбцов (все классы, кроме \"другое\"). Предсказанные значения – \"pr\", также должны быть либо в виде датафрейма, либо в виде массива."
      ]
    },
    {
      "cell_type": "code",
      "execution_count": 24,
      "metadata": {
        "id": "nAxou2xrrGHr"
      },
      "outputs": [],
      "source": [
        "def log_loss_score(gt, pr):\n",
        "    \n",
        "    log_loss_ = 0\n",
        "    \n",
        "    gt = np.array(gt)\n",
        "    \n",
        "    for i in range(10):\n",
        "        log_loss_ += metrics.log_loss(gt[:, i], pr[:, i])\n",
        "        \n",
        "    return log_loss_ / 10"
      ]
    },
    {
      "cell_type": "markdown",
      "metadata": {
        "id": "EfyzsE7P1T6p"
      },
      "source": [
        "# Загрузка данных"
      ]
    },
    {
      "cell_type": "markdown",
      "metadata": {
        "id": "pJc0ymTy1T6q"
      },
      "source": [
        "Тренировочные данные состоят из полей 'text_id', 'text' и 11 полей с таргетами. Не стоит забывать, что может быть больше одной болезни для каждого случая."
      ]
    },
    {
      "cell_type": "markdown",
      "metadata": {
        "id": "W_cRmkBW1T6r"
      },
      "source": [
        "Тестовые же данные содержат поля 'text_id' и 'text'."
      ]
    },
    {
      "cell_type": "code",
      "execution_count": 10,
      "metadata": {
        "id": "xJaSOTht1T6r"
      },
      "outputs": [],
      "source": [
        "train = pd.read_csv('train.csv')\n",
        "test = pd.read_csv('test.csv')"
      ]
    },
    {
      "cell_type": "code",
      "execution_count": 11,
      "metadata": {
        "id": "SdeEDl4jiHQb"
      },
      "outputs": [],
      "source": [
        "train = train.sample(frac=1., random_state=SEED)"
      ]
    },
    {
      "cell_type": "code",
      "execution_count": 12,
      "metadata": {
        "colab": {
          "base_uri": "https://localhost:8080/",
          "height": 287
        },
        "id": "PKrN3ggK0qgo",
        "outputId": "5a67741b-9faf-4285-dc0e-5c6ba17590b8"
      },
      "outputs": [
        {
          "name": "stdout",
          "output_type": "stream",
          "text": [
            "В среднем 50.54081632653061 слов в примере\n"
          ]
        },
        {
          "data": {
            "image/png": "[encoded data removed]",
            "text/plain": [
              "<Figure size 432x288 with 1 Axes>"
            ]
          },
          "metadata": {
            "needs_background": "light"
          },
          "output_type": "display_data"
        }
      ],
      "source": [
        "plt.hist([len(clean_text(text).split()) for text in train.text])\n",
        "print(f'В среднем {np.mean([len(clean_text(text).split()) for text in train.text])} слов в примере')"
      ]
    },
    {
      "cell_type": "markdown",
      "metadata": {
        "id": "SwsodFdc0SQ9"
      },
      "source": [
        "Как видно сверху большинство примеров имеют меньше 200 слов и в среднем в примере содержится ~50.54 слов. Так как есть примеры, с большим количеством слов, при токенизации таких примеров часть слов из последних предложений отбрасывалась. У меня появилась идея суммаризовать их (т.е. найти самые важные предложения в тексте) и таким образом уменьшить количество слов в таких примерах. Среди методов суммаризации есть те, которые требуют предварительного обучения на размеченных корпусах, и те, которые работают без обучения. Я попробовал второй вариант, так как не имел размеченных корпусов и не нашел подходящих уже обученных моделей на русском. В итоге, я нашел библиотеку summa, в которой реализован метод TextRank для предложений. Никакого прироста по метрике не было замечено при обучении на суммаризованных предложений, так что я не использовал это."
      ]
    },
    {
      "cell_type": "code",
      "execution_count": 13,
      "metadata": {
        "id": "_g_V9Cl5Sjhy"
      },
      "outputs": [],
      "source": [
        "if USE_SUMMARIZE:\n",
        "    def shrink(text, max_words=MAX_WORDS):\n",
        "        if len(text.split()) < max_words:\n",
        "            return text\n",
        "        return ' '.join(summarize(text, words=max_words, split=True))\n",
        "    train['text'] = train['text'].apply(shrink)\n",
        "    test['text'] = test['text'].apply(shrink)\n",
        "\n",
        "if AUG:\n",
        "    train_size = int(len(train)*0.8) * 2\n",
        "\n",
        "    paraphraser = Paraphraser()\n",
        "    aug_train = train[:int(len(train)*0.8)].copy()\n",
        "    aug_train['text'] = aug_train['text'].apply(paraphraser.paraphrase_example)\n",
        "    aug_train = aug_train.sample(frac=1., random_state=SEED + 1)\n",
        "    train = pd.concat((aug_train, train))\n",
        "else:\n",
        "    train_size = int(len(train)*0.8)"
      ]
    },
    {
      "cell_type": "code",
      "execution_count": 14,
      "metadata": {
        "colab": {
          "base_uri": "https://localhost:8080/",
          "height": 112
        },
        "id": "G5i4OMoj1T6t",
        "outputId": "62aa2cf0-b8e2-4e51-e737-25fe37bc3a35"
      },
      "outputs": [
        {
          "data": {
            "text/html": [
              "<div>\n",
              "<style scoped>\n",
              "    .dataframe tbody tr th:only-of-type {\n",
              "        vertical-align: middle;\n",
              "    }\n",
              "\n",
              "    .dataframe tbody tr th {\n",
              "        vertical-align: top;\n",
              "    }\n",
              "\n",
              "    .dataframe thead th {\n",
              "        text-align: right;\n",
              "    }\n",
              "</style>\n",
              "<table border=\"1\" class=\"dataframe\">\n",
              "  <thead>\n",
              "    <tr style=\"text-align: right;\">\n",
              "      <th></th>\n",
              "      <th>text_id</th>\n",
              "      <th>text</th>\n",
              "    </tr>\n",
              "  </thead>\n",
              "  <tbody>\n",
              "    <tr>\n",
              "      <th>0</th>\n",
              "      <td>294</td>\n",
              "      <td>Понос у месячных телят. Подскажите методы и сп...</td>\n",
              "    </tr>\n",
              "    <tr>\n",
              "      <th>1</th>\n",
              "      <td>295</td>\n",
              "      <td>Понос у телят, чем лечить? \\nЧем можно вылечит...</td>\n",
              "    </tr>\n",
              "  </tbody>\n",
              "</table>\n",
              "</div>"
            ],
            "text/plain": [
              "   text_id                                               text\n",
              "0      294  Понос у месячных телят. Подскажите методы и сп...\n",
              "1      295  Понос у телят, чем лечить? \\nЧем можно вылечит..."
            ]
          },
          "execution_count": 14,
          "metadata": {},
          "output_type": "execute_result"
        }
      ],
      "source": [
        "test.head(2)"
      ]
    },
    {
      "cell_type": "markdown",
      "metadata": {
        "id": "kHJT3FTsfUH6"
      },
      "source": [
        "# Нейронка"
      ]
    },
    {
      "cell_type": "markdown",
      "metadata": {
        "id": "uFubsSlutfuD"
      },
      "source": [
        "Первоначальная идея для первой подзадачи - это использовать предобученный на русский язык трансформер (нейронная сеть для задач NLP, использующая механизм внимания). Среди моделей, обученных на русских, не так уж много моделей, подходящих для классификации, мною были рассмотрены только модели на базе BERT и RoBERTa. Сильной разницы в метрики между ними не заметил, но размер модели RoBERTa был сильно больше (в открытом доступе только модель, весящая 1.33 Гб) и, вследствие этого, обучение занимало гораздо много времени. По итогу выбор был сделан в сторону модели на базе BERT."
      ]
    },
    {
      "cell_type": "code",
      "execution_count": null,
      "metadata": {
        "id": "n3dxPqIHtrlT"
      },
      "outputs": [],
      "source": [
        "tokenizer, model_init = load_model(PATH)"
      ]
    },
    {
      "cell_type": "code",
      "execution_count": null,
      "metadata": {
        "id": "cZRo_bXFcI5I"
      },
      "outputs": [],
      "source": [
        "dataset = Dataset.from_pandas(train)\n",
        "pred_dataset = Dataset.from_pandas(test)\n",
        "\n",
        "def tokenize_function(examples):\n",
        "    return tokenizer(examples[\"text\"], padding=\"max_length\", max_length=MAX_LENGTH, truncation=True)\n",
        "\n",
        "def create_labels(example):\n",
        "    example['labels'] = torch.tensor(list(map(example.get, train.columns[2:].tolist())), dtype=torch.float)\n",
        "    return example\n",
        "\n",
        "dataset = dataset.map(tokenize_function, batched=True)\n",
        "dataset = dataset.map(create_labels, remove_columns=train.columns[2:].tolist())\n",
        "dataset = dataset.remove_columns('text_id')\n",
        "\n",
        "pred_dataset = Dataset.from_pandas(test)\n",
        "pred_dataset = pred_dataset.map(tokenize_function, batched=True)\n",
        "\n",
        "datasets = dataset.train_test_split(train_size=train_size, seed=SEED, shuffle=False)"
      ]
    },
    {
      "cell_type": "markdown",
      "metadata": {
        "id": "ULDIezvsvH1M"
      },
      "source": [
        "https://wandb.ai/amogkam/transformers/reports/Hyperparameter-Optimization-for-Hugging-Face-Transformers--VmlldzoyMTc2ODI - здесь посмотрел, какие гиперпараметры больше всего влияют на обучение\n",
        "\n",
        "https://discuss.huggingface.co/t/using-hyperparameter-search-in-trainer/785/10 - здесь посмотрел, как оптимизировать гиперпараметры\n",
        "\n",
        "Для того, чтобы получить самый низкий лосс на валидации, я воспользовался методом trainer.hyperparameter_search, который пробует разные вариации гиперпараметров и смотрит лосс у каждой вариации. Итогом этого является конкретные значения гиперпараметров.\n",
        "\n",
        "![изображение.png](data:image/png;base64,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)"
      ]
    },
    {
      "cell_type": "markdown",
      "metadata": {
        "id": "O5rbT7QGbLiV"
      },
      "source": [
        "# Тренировка нейронки"
      ]
    },
    {
      "cell_type": "markdown",
      "metadata": {
        "id": "SNEmlwqIqbrE"
      },
      "source": [
        "Значения гиперпараметров были получены с помощью optuna"
      ]
    },
    {
      "cell_type": "code",
      "execution_count": 17,
      "metadata": {
        "id": "x4hZfEskD_jA"
      },
      "outputs": [],
      "source": [
        "hyperparams = {\n",
        "    'warmup_steps': 27, \n",
        "    'learning_rate': 9.565499215943819e-05, \n",
        "    'num_train_epochs': 20, \n",
        "    'weight_decay': 0.09094110816767033, \n",
        "    'per_device_train_batch_size': 6}"
      ]
    },
    {
      "cell_type": "code",
      "execution_count": null,
      "metadata": {
        "id": "SWpbU07Yu28K"
      },
      "outputs": [],
      "source": [
        "training_args = TrainingArguments(\n",
        "    output_dir='./results',\n",
        "    per_device_eval_batch_size=16,\n",
        "    logging_dir='./logs',\n",
        "    logging_steps=25,\n",
        "    evaluation_strategy=\"steps\",\n",
        "    load_best_model_at_end=True,\n",
        "    save_total_limit=1,\n",
        "    overwrite_output_dir=True,\n",
        "    save_steps=500,\n",
        "    **hyperparams\n",
        ")\n",
        "\n",
        "trainer = Trainer(\n",
        "    args=training_args,\n",
        "    train_dataset=datasets['train'],\n",
        "    eval_dataset=datasets['test'],\n",
        "    model_init=model_init,\n",
        ")\n",
        "\n",
        "trainer.train()"
      ]
    },
    {
      "cell_type": "code",
      "execution_count": null,
      "metadata": {
        "id": "dzCEioOwsYN1"
      },
      "outputs": [],
      "source": [
        "outputs = trainer.predict(datasets['test'])\n",
        "predictions = torch.sigmoid(torch.from_numpy(outputs.predictions)).numpy()"
      ]
    },
    {
      "cell_type": "code",
      "execution_count": 25,
      "metadata": {
        "colab": {
          "base_uri": "https://localhost:8080/"
        },
        "id": "-8uf0Ju6hP1s",
        "outputId": "82e4d64f-18e2-43c0-afdf-e92580aba752"
      },
      "outputs": [
        {
          "name": "stdout",
          "output_type": "stream",
          "text": [
            "Logloss: 0.2164904848745456\n"
          ]
        }
      ],
      "source": [
        "print('Logloss:', log_loss_score(train.tail(len(train) - train_size)[train.columns[-11:-1]], predictions))"
      ]
    },
    {
      "attachments": {},
      "cell_type": "markdown",
      "metadata": {
        "id": "VmCvsbwtuYVX"
      },
      "source": [
        "# Поиск признаков болезней\n",
        "Поиск признаков происходит с помощью fasttext модели, обученной на RuDRec.\n",
        "\n",
        "Найденные признаки очищаются от стоп-слов и трансформируются в векторное пространство с помощью такой же модели, но векторное пространство которой урезано до 50-мерного пространство."
      ]
    },
    {
      "cell_type": "markdown",
      "metadata": {
        "id": "Fgwk-j-0y6o6"
      },
      "source": [
        "## Подготовка данных"
      ]
    },
    {
      "cell_type": "code",
      "execution_count": 26,
      "metadata": {
        "id": "9hxlR2Hyvayz"
      },
      "outputs": [],
      "source": [
        "with open('train_labels.json') as f:\n",
        "    train_labels = json.loads(f.read())\n",
        "\n",
        "train_labels_ = {}\n",
        "for key in train_labels:\n",
        "    spans = train_labels[key]['span']\n",
        "    if len(spans) == 0:\n",
        "        continue\n",
        "    train_labels_[key] = {'text': train[train.text_id == int(key)].text.values[0], 'span': spans}"
      ]
    },
    {
      "cell_type": "markdown",
      "metadata": {
        "id": "K8sMbmPQAIEc"
      },
      "source": [
        "Код ниже отвечает за вычисление метрики."
      ]
    },
    {
      "cell_type": "code",
      "execution_count": 27,
      "metadata": {
        "id": "-kfMG1H7vfVL"
      },
      "outputs": [],
      "source": [
        "def f1_span_score_per_text(ground_truth_labels, my_labels, text):\n",
        "    \n",
        "    span_my_tokens = list()\n",
        "    span_gt_tokens = list()\n",
        "    \n",
        "    if len(my_labels):\n",
        "        span_my_words = [text[s[0]:s[1]] for s in my_labels]\n",
        "        span_my_tokens = [re.sub('[^А-Яа-яёЁ ]+', '', item) for sublist in span_my_words for item in sublist.split()]\n",
        "\n",
        "    if len(ground_truth_labels):\n",
        "        span_gt_words = [text[s[0]:s[1]] for s in ground_truth_labels]\n",
        "        span_gt_tokens = [re.sub('[^А-Яа-яёЁ ]+', '', item) for sublist in span_gt_words for item in sublist.split()]\n",
        "\n",
        "    if len(span_my_tokens) == 0 or len(span_gt_tokens) == 0:\n",
        "        return int(span_my_tokens == span_gt_tokens)\n",
        "    \n",
        "    tp = np.sum(list((Counter(span_gt_tokens) & Counter(span_my_tokens)).values()))\n",
        "\n",
        "    precision = tp/len(span_my_tokens)\n",
        "    recall = tp/len(span_gt_tokens)\n",
        "\n",
        "    if precision + recall > 0:\n",
        "        return 2*precision*recall/(precision+recall)\n",
        "    else:\n",
        "        return 0\n",
        "    \n",
        "def total_f1_score(ground_truth_labels, my_labels, data):\n",
        "    f1_scores = list()\n",
        "    for k in ground_truth_labels.keys():\n",
        "        text = data.loc[data['text_id'] == int(k), 'text'].values[0]\n",
        "        f1_score_per_text = f1_span_score_per_text(ground_truth_labels[k]['span'], my_labels[k]['span'], text)\n",
        "        f1_scores.append(f1_score_per_text)\n",
        "        \n",
        "    return np.mean(f1_scores)"
      ]
    },
    {
      "cell_type": "markdown",
      "metadata": {
        "id": "QHjg__bGAQIF"
      },
      "source": [
        "Модель fasttext весит около 2 Гб, но так как библиотека FastText от Facebook хорошо оптимизирована, то все вычисления занимают очень мало времени."
      ]
    },
    {
      "cell_type": "code",
      "execution_count": null,
      "metadata": {
        "id": "98aZx9B5wICV"
      },
      "outputs": [],
      "source": [
        "ft_model = fasttext.load_model('rudrec_fasttext_model.bin')"
      ]
    },
    {
      "cell_type": "markdown",
      "metadata": {
        "id": "zyhS3tV-zBZg"
      },
      "source": [
        "## Поиск кандидатов среди неразмеченных слов\n",
        "Размечены только 30 примеров, среди остальных примеров может быть ещё много слов, которые достаточно близки к размеченным, но не размечены. Эти слова можно использовать для улучшения алгоритма поиска признаков болезней.\n",
        "\n",
        "Для того, чтобы понять что слово является признаком болезни, я измеряю косинусную меру между данным словом (кандидат) и словами, которые точно являются признаками болезни (помечены признаками болезни в размеченных примерах). Если мера превышает порог между данным словом и каким-нибудь словом-признаком, то я считаю это слово тоже признаком болезни.\n",
        "\n",
        "Также из размеченных примеров можно точно понять, какие слова не являются признаками болезни. Я также использую эту информацию, проверяя, что кандидат не принадлежит к таким словам."
      ]
    },
    {
      "cell_type": "code",
      "execution_count": 29,
      "metadata": {
        "id": "tUJ-cmXDwJW1"
      },
      "outputs": [],
      "source": [
        "def is_similar(word_vector, vectors_compare_with, threshold=0.5):\n",
        "    vecs = cosine_similarity(word_vector[np.newaxis, :], vectors_compare_with)\n",
        "    return np.any(vecs > threshold)"
      ]
    },
    {
      "cell_type": "code",
      "execution_count": 30,
      "metadata": {
        "id": "U6V2LcSFfNTY"
      },
      "outputs": [],
      "source": [
        "def take_not_spans(text, spans):\n",
        "    take_sym = []\n",
        "    span_idx = 0\n",
        "    for idx in range(len(text)):\n",
        "        if idx >= spans[span_idx][1] and span_idx < len(spans) - 1:\n",
        "            span_idx += 1\n",
        "        if idx >= spans[span_idx][0] and idx < spans[span_idx][1]:\n",
        "            take_sym.append(False)\n",
        "        else: take_sym.append(True)\n",
        "    return ''.join(x for idx, x in enumerate(text) if take_sym[idx])"
      ]
    },
    {
      "cell_type": "code",
      "execution_count": 31,
      "metadata": {
        "colab": {
          "base_uri": "https://localhost:8080/",
          "height": 49,
          "referenced_widgets": [
            "a75e801d1fd945d5b032f2b62eb321e5",
            "e8e8d1d0b3e644ec92a0775a3588d6c9",
            "034a5baf5e174e468526dcf171f88444",
            "5d5ec3cd3df743fc9128e02402240287",
            "1c2a1bd13d5d4bedb61b5d528fcb48b0",
            "165bc86afb634e19b66e6d87d802e738",
            "c4ed873f0c174811bf99728ace09700d",
            "acff13cd39e848238c25ad2a89c2eaee",
            "6578cd9b119b43b6b4cdd66c520a94e9",
            "bf40c2005ca149eb913a84e44fc28ab6",
            "03aae5fbaddd480d989866c6b6f2f414"
          ]
        },
        "id": "QScEkZ4swMSL",
        "outputId": "3cb91a6b-517e-4237-feb2-e5ea299f9356"
      },
      "outputs": [
        {
          "data": {
            "application/vnd.jupyter.widget-view+json": {
              "model_id": "a75e801d1fd945d5b032f2b62eb321e5",
              "version_major": 2,
              "version_minor": 0
            },
            "text/plain": [
              "  0%|          | 0/294 [00:00<?, ?it/s]"
            ]
          },
          "metadata": {},
          "output_type": "display_data"
        }
      ],
      "source": [
        "min_candidate_threshold = 0.4\n",
        "\n",
        "train_words = set()\n",
        "candidates = set()\n",
        "\n",
        "filter_sw = lambda x: filter(lambda y: y not in russian_stopwords and y is not None, x.split())\n",
        "\n",
        "keys = list(train_labels_.keys())\n",
        "for key in keys:\n",
        "    exmpl = train_labels_[key]\n",
        "    sent = exmpl['text']\n",
        "    train_words.update(chain(*[filter_sw(clean_text(sent[a:b])) for a, b in exmpl['span']]))\n",
        "train_word_vectors = np.array([ft_model.get_word_vector(word) for word in train_words])\n",
        "\n",
        "for key in tqdm(train_labels):\n",
        "    if len(train_labels[key]['span']) != 0:\n",
        "        continue\n",
        "    text = train[train.text_id == int(key)].text.values[0]\n",
        "    for word in clean_text(text).split():\n",
        "        if word is None:\n",
        "            continue\n",
        "        add = is_similar(ft_model.get_word_vector(word), train_word_vectors, threshold=min_candidate_threshold)\n",
        "        if word not in russian_stopwords and word not in train_words and add:\n",
        "            candidates.add(word)\n",
        "\n",
        "for _, row in test.iterrows():\n",
        "    text = row['text']\n",
        "\n",
        "    for word in clean_text(text).split():\n",
        "        if word is None:\n",
        "            continue\n",
        "        add = is_similar(ft_model.get_word_vector(word), train_word_vectors, threshold=min_candidate_threshold)\n",
        "        if word not in russian_stopwords and word not in train_words and add:\n",
        "            candidates.add(word)\n",
        "\n",
        "train_words = list(train_words)"
      ]
    },
    {
      "cell_type": "code",
      "execution_count": 32,
      "metadata": {
        "colab": {
          "base_uri": "https://localhost:8080/"
        },
        "id": "0f01df4bwNxk",
        "outputId": "db71d975-2ed1-42f2-d95d-535e7d7ba259"
      },
      "outputs": [
        {
          "name": "stdout",
          "output_type": "stream",
          "text": [
            "['подкашливает', 'немножко', 'пьет', 'течет', 'запоносили', 'жидковатый']\n"
          ]
        }
      ],
      "source": [
        "test_candidate_threshold = 0.9\n",
        "\n",
        "def find_candidates_vectors(candidate_vectors, candidate_threshold, word_vectors=train_word_vectors):\n",
        "    vecs = cosine_similarity(candidate_vectors, word_vectors)\n",
        "    filtering = np.any(vecs > candidate_threshold, axis=1)\n",
        "    return candidate_vectors[filtering]\n",
        "\n",
        "def find_candidates(candidates, candidate_threshold, word_vectors=train_word_vectors):\n",
        "    func = lambda x: is_similar(ft_model.get_word_vector(x), word_vectors, threshold=candidate_threshold)\n",
        "    return list(filter(func, candidates))\n",
        "\n",
        "print(find_candidates(candidates, test_candidate_threshold))"
      ]
    },
    {
      "attachments": {},
      "cell_type": "markdown",
      "metadata": {
        "id": "t4ZezjLOzQAi"
      },
      "source": [
        "## Поиск оптимальных параметров\n",
        "Поиск происходит с помощью библиотеки optuna. Я ввел 4 параметра и с помощью библиотеки перебрал разные их вариации, для того, чтобы найти оптимальный вариант.\n",
        "\n",
        "*threshold* - порог, по которому слово из неразмеченных текстов считается за слово, содержащее признак болезни. Вычисляется косинусное расстояние.\n",
        "\n",
        "*filter_stopwords* - флаг, фильтровать ли стоп-слова (слова, не несущие смысла - частицы, предлоги, союзы и т.д.)\n",
        "\n",
        "*max_span_dist_merge* - fasttext хорошо находит обычные слова, но не стоп-слова, тем не менее признаком болезни может быть и фраза, включающая стоп-слова. Для того, чтобы улучшить метрику, я ввел этот параметр. Если между двумя спанами меньше символов, чем значение параметра, то эти два спана сливаются в один.\n",
        "\n",
        "*candidate_threshold* - насколько близко (по косинусному расстоянию) должно быть слово-кандидат к размеченным словам, чтобы его добавить к размеченным словам."
      ]
    },
    {
      "cell_type": "code",
      "execution_count": 33,
      "metadata": {
        "id": "DF9Ck6p1wSRL"
      },
      "outputs": [],
      "source": [
        "def find_spans(text, word_vectors, threshold, max_span_dist_merge, filter_sw, notcandidates):\n",
        "    spans = []\n",
        "\n",
        "    for m in re.finditer(r'\\S+', text):\n",
        "        index, item = m.start(), m.group()\n",
        "        cleaned_item = clean_text(item)\n",
        "        if cleaned_item is None:\n",
        "            continue\n",
        "        pos = 0\n",
        "        for word in filter_sw(cleaned_item):\n",
        "            add = is_similar(ft_model.get_word_vector(word), word_vectors, threshold)\n",
        "            pos = cleaned_item.find(word, pos)\n",
        "            if add and word not in notcandidates:\n",
        "                spans.append([index + pos, index + pos + len(word)])\n",
        "            pos += len(word) - 1\n",
        "\n",
        "    if max_span_dist_merge > 0 and len(spans) > 0:\n",
        "        new_spans = []\n",
        "        merge = []\n",
        "        for sp1, sp2 in zip(spans[:-1], spans[1:]):\n",
        "            merge.append(sp2[0] - sp1[1] - 1 <= max_span_dist_merge)\n",
        "        left = spans[0][0]\n",
        "        for idx in range(len(merge)):\n",
        "            if merge[idx]:\n",
        "                continue\n",
        "            new_spans.append([left, spans[idx][1]])\n",
        "            left = spans[idx + 1][0]\n",
        "        new_spans.append([left, spans[-1][1]])\n",
        "        spans = new_spans\n",
        "    \n",
        "    return spans"
      ]
    },
    {
      "cell_type": "markdown",
      "metadata": {
        "id": "z-Pfori33PAe"
      },
      "source": [
        "В качестве проверки модели, я использую метод LeaveOneOut, таким образом предсказываю признаки болезней для всех размеченных примеров, а потом проверяю с истинными признаками. По итогу optuna в конце возвращает конкретные значения параметров, при которых метрика F1 была больше всего."
      ]
    },
    {
      "cell_type": "code",
      "execution_count": 34,
      "metadata": {
        "id": "5q9fqNP_wddW"
      },
      "outputs": [],
      "source": [
        "keys = list(train_labels_.keys())\n",
        "loo = LeaveOneOut()\n",
        "\n",
        "def objective(trial):\n",
        "    threshold = trial.suggest_float('threshold', 0., 1.,)\n",
        "    filter_stopwords = trial.suggest_categorical('filter_stopwords', [False, True])\n",
        "    max_span_dist_merge = trial.suggest_int('max_span_dist_merge', 0, 20)\n",
        "    candidate_threshold = trial.suggest_float('candidate_threshold', 0.5, 1.0)\n",
        "    \n",
        "    if filter_stopwords:\n",
        "        filter_sw = lambda x: filter(lambda y: y not in russian_stopwords, x.split())\n",
        "    else:\n",
        "        filter_sw = lambda x: x.split()\n",
        "\n",
        "    preds = dict()\n",
        "    for train_index, test_index in tqdm(loo.split(train_labels_), total=len(train_labels_)):\n",
        "        test_idx = test_index[0]\n",
        "        \n",
        "        words = set()\n",
        "        notcandidates = set()\n",
        "        for idx in train_index:\n",
        "            exmpl = train_labels_[keys[idx]]\n",
        "            sent = exmpl['text']\n",
        "            words.update(chain(*[filter_sw(clean_text(sent[a:b])) for a, b in exmpl['span']]))\n",
        "            notcandidates.update(filter_sw(clean_text(take_not_spans(sent, exmpl['span']))))\n",
        "        notcandidates = notcandidates - words\n",
        "        word_vectors = np.array([ft_model.get_word_vector(word) for word in words])\n",
        "\n",
        "        candidates_ = candidates - notcandidates\n",
        "        candidate_vectors = np.array([ft_model.get_word_vector(word) for word in candidates_])\n",
        "        new_vectors = find_candidates_vectors(candidate_vectors, candidate_threshold, word_vectors)\n",
        "        word_vectors = np.vstack((word_vectors, new_vectors))\n",
        "\n",
        "        test_exmpl = train_labels_[keys[test_idx]]\n",
        "        \n",
        "        spans = find_spans(test_exmpl['text'], word_vectors, threshold, max_span_dist_merge, filter_sw, notcandidates)\n",
        "        preds[keys[test_idx]] = {'span': spans}\n",
        "\n",
        "    return total_f1_score(train_labels_, preds, train)\n",
        "\n",
        "sampler = TPESampler(seed=SEED)"
      ]
    },
    {
      "cell_type": "code",
      "execution_count": null,
      "metadata": {
        "id": "6VrtM6ZFwfby"
      },
      "outputs": [],
      "source": [
        "study = optuna.create_study(directions=[\"maximize\"], sampler=sampler)\n",
        "study.optimize(objective, n_trials=100, timeout=3600)"
      ]
    },
    {
      "cell_type": "code",
      "execution_count": 36,
      "metadata": {
        "colab": {
          "base_uri": "https://localhost:8080/"
        },
        "id": "2NKSvYs0whPs",
        "outputId": "8fc0c314-edc1-49dc-8c05-0e49aaac62fa"
      },
      "outputs": [
        {
          "data": {
            "text/plain": [
              "{'candidate_threshold': 0.6742901793717561,\n",
              " 'filter_stopwords': True,\n",
              " 'max_span_dist_merge': 1,\n",
              " 'threshold': 0.467297166456727}"
            ]
          },
          "execution_count": 36,
          "metadata": {},
          "output_type": "execute_result"
        }
      ],
      "source": [
        "best_params = study.best_trials[0].params\n",
        "best_params"
      ]
    },
    {
      "attachments": {},
      "cell_type": "markdown",
      "metadata": {
        "id": "IB2r9N7F36jW"
      },
      "source": [
        "## Поиск признаков болезней для неразмеченных примеров\n",
        "\n",
        "Значения параметров, полученные на предыдущем шаге, будут использованы здесь. На данном шаге я из текста примера оставляю только слова, которые мой алгоритм считает признаками болезни.\n",
        "\n",
        "Из отфильтрованного таким образом текста составляется новый столбец для исходных выборок."
      ]
    },
    {
      "cell_type": "code",
      "execution_count": 39,
      "metadata": {
        "colab": {
          "base_uri": "https://localhost:8080/",
          "height": 81,
          "referenced_widgets": [
            "21e5dab9c48d4344b3d1020d2d4baafe",
            "d24003a50f7d4a0a97b3eb72a9100600",
            "82e879b9ef6f4eb9899bda4d2a667139",
            "6d77f57ffef342f08a072c3c2142981a",
            "a9858d33212f4fdeb3c91682accdf528",
            "5f8bf165be6644e7862da67a970137f4",
            "7c30d935d3fd4740bebd58c89573b8c5",
            "e7bfcdb5bfd549b0aa51c1b3a9ecf18f",
            "2d6aa450513447af81581c2e45efffe5",
            "52855ab34b594a9e96940917e357b554",
            "4437a71a4f97450cacbe2f99c469e41a",
            "926dcff375eb42c98b45445d0ba5b28d",
            "648d2482671a4f42ba14ddb94e032456",
            "46f8e312e9314392a75bf186f5a6e241",
            "8f978b9bc8c54598af604adf352de549",
            "ed1783b148bc4080945d85e5dd5c78c4",
            "b1e68a5048c4442799865b3f8a2ca959",
            "c429d5c4b10a40749d52550323868805",
            "77a182320f894c8f87bd6a466f13befa",
            "aee69754f94743479fb61a9d9572a59e",
            "b0947989692a4133afbc10844a372cfe",
            "d5115f25458744c182befb7e75960912"
          ]
        },
        "id": "Hy00F80VwrjC",
        "outputId": "40b1a252-c48e-4f57-e071-c39dc81bff20"
      },
      "outputs": [
        {
          "data": {
            "application/vnd.jupyter.widget-view+json": {
              "model_id": "21e5dab9c48d4344b3d1020d2d4baafe",
              "version_major": 2,
              "version_minor": 0
            },
            "text/plain": [
              "  0%|          | 0/294 [00:00<?, ?it/s]"
            ]
          },
          "metadata": {},
          "output_type": "display_data"
        },
        {
          "data": {
            "application/vnd.jupyter.widget-view+json": {
              "model_id": "926dcff375eb42c98b45445d0ba5b28d",
              "version_major": 2,
              "version_minor": 0
            },
            "text/plain": [
              "  0%|          | 0/99 [00:00<?, ?it/s]"
            ]
          },
          "metadata": {},
          "output_type": "display_data"
        }
      ],
      "source": [
        "threshold = best_params['threshold']\n",
        "filter_stopwords = best_params['filter_stopwords']\n",
        "max_span_dist_merge = 0\n",
        "candidate_threshold = best_params['candidate_threshold']\n",
        "\n",
        "if filter_stopwords:\n",
        "    filter_sw = lambda x: filter(lambda y: y not in russian_stopwords and y is not None, x.split())\n",
        "else:\n",
        "    filter_sw = lambda x: x.split()\n",
        "\n",
        "words = set()\n",
        "notcandidates = set()\n",
        "for key in keys:\n",
        "    exmpl = train_labels_[key]\n",
        "    sent = exmpl['text']\n",
        "    words.update(chain(*[filter_sw(clean_text(sent[a:b])) for a, b in exmpl['span']]))\n",
        "    notcandidates.update(filter_sw(clean_text(take_not_spans(sent, exmpl['span']))))\n",
        "notcandidates = notcandidates - words\n",
        "word_vectors = np.array([ft_model.get_word_vector(word) for word in words])\n",
        "\n",
        "candidates_ = candidates - notcandidates\n",
        "candidate_vectors = np.array([ft_model.get_word_vector(word) for word in candidates_])\n",
        "new_vectors = find_candidates_vectors(candidate_vectors, candidate_threshold, word_vectors)\n",
        "word_vectors = np.vstack((word_vectors, new_vectors))\n",
        "\n",
        "train_dis_features = []\n",
        "\n",
        "for _, row in tqdm(train.iterrows(), total=len(train)):\n",
        "    text = row['text']\n",
        "    spans = find_spans(text, word_vectors, threshold, max_span_dist_merge, filter_sw, notcandidates)\n",
        "    train_dis_features.append(' '.join(text[l:r] for l, r in spans))\n",
        "\n",
        "if 'dis_features' not in train.columns:\n",
        "    train.insert(loc=2,\n",
        "                 column='dis_features',\n",
        "                 value=train_dis_features)\n",
        "else:\n",
        "    train.dis_features = train_dis_features\n",
        "\n",
        "\n",
        "test_dis_features = []\n",
        "\n",
        "for _, row in tqdm(test.iterrows(), total=len(test)):\n",
        "    text = row['text']\n",
        "    spans = find_spans(text, word_vectors, threshold, max_span_dist_merge, filter_sw, notcandidates)\n",
        "    test_dis_features.append(' '.join(text[l:r] for l, r in spans))\n",
        "\n",
        "if 'dis_features' not in test.columns:\n",
        "    test.insert(loc=2,\n",
        "                column='dis_features',\n",
        "                value=test_dis_features)\n",
        "else:\n",
        "    test.dis_features = test_dis_features"
      ]
    },
    {
      "cell_type": "markdown",
      "metadata": {
        "id": "VkD1KPwT4fDA"
      },
      "source": [
        "## Удаление стоп-слов и добавление в датасет"
      ]
    },
    {
      "attachments": {},
      "cell_type": "markdown",
      "metadata": {
        "id": "t3IDU_yEIq7O"
      },
      "source": [
        "Из отфильтрованного текста удаляю стоп-слова (предлоги, частицы и т.д.)."
      ]
    },
    {
      "cell_type": "code",
      "execution_count": 40,
      "metadata": {
        "id": "u5gwq97Pwtne"
      },
      "outputs": [],
      "source": [
        "def remove_stopwords(text, stopwords=russian_stopwords):\n",
        "    return ' '.join(filter(lambda x: x not in stopwords, text.split()))\n",
        "\n",
        "train.dis_features = train.dis_features.map(clean_text).map(remove_stopwords)\n",
        "test.dis_features = test.dis_features.map(clean_text).map(remove_stopwords)"
      ]
    },
    {
      "cell_type": "markdown",
      "metadata": {
        "id": "A7RPBcI9I512"
      },
      "source": [
        "Пример получившегося текста ниже"
      ]
    },
    {
      "cell_type": "code",
      "execution_count": 41,
      "metadata": {
        "colab": {
          "base_uri": "https://localhost:8080/"
        },
        "id": "el1vEUbpIHQ1",
        "outputId": "eb4e5311-b3fc-4a2a-ece0-b62fc33c7ac1"
      },
      "outputs": [
        {
          "data": {
            "text/plain": [
              "['запоносил',\n",
              " 'паратифа',\n",
              " 'вымени ранка зарубцевалась опухла вымени',\n",
              " 'искривился молочный канал молоко фонтаном тяжело',\n",
              " 'отелилась отек убавили давали отек спал рацион появляться отек отека каждый вымя молоко отек отек',\n",
              " 'поднялась температура сопит хрипит сопит менее нос пускает пузыри надувает щёки антибиотиками лечились ривициклин норсульфазол пьёт молоко сбавляет',\n",
              " 'сказали меньше кормлю понос кровью',\n",
              " 'вспотел поносит умерла',\n",
              " 'тёлке плохо ест пьёт лижет лёд отворачивается',\n",
              " 'кашель сопли сгустками крови сопли сгустками крови кашель температура аппетит характерный покупали поноса антибиотика девочку колоть',\n",
              " 'годовалый кашлять годовалый кашлять',\n",
              " 'высыпания шее высыпания шее',\n",
              " 'передние ноги бегал плохо стал вставать вечеру передние ноги поджал задними передвигается ест пьет вставать передние ноги разгибаются коленках заболеванием',\n",
              " 'ноги',\n",
              " 'поносит тилозин',\n",
              " 'ветеринар понимает челюстью шишка куриное нижней челюстью шишка куриное зимой прорвало подсохло ветеринар анализы прививки',\n",
              " 'идёт молозиво отёк вымени живот сосок отекший капельку вставили канал идёт молозиво',\n",
              " 'отелилась молока вставлять см сосет молока',\n",
              " 'понос молока родился вызвали родить молока молоко зелёный растягивающий понос молока',\n",
              " 'поноса понос поноса']"
            ]
          },
          "execution_count": 41,
          "metadata": {},
          "output_type": "execute_result"
        }
      ],
      "source": [
        "train.dis_features.tolist()[:20]"
      ]
    },
    {
      "attachments": {},
      "cell_type": "markdown",
      "metadata": {
        "id": "fIPAzcXQ4nXE"
      },
      "source": [
        "## Генерирация вектора с помощью fasttext модели"
      ]
    },
    {
      "cell_type": "markdown",
      "metadata": {
        "id": "IKpy6wxPJA2j"
      },
      "source": [
        "Загружаю ту же модель fasttext, но уже урезаю вектороное пространство до 50. Я проверил опытным путем, что на 50-мерных векторах catboost классификатор работает лучше всего."
      ]
    },
    {
      "cell_type": "code",
      "execution_count": null,
      "metadata": {
        "id": "kmPpeua5xdaD"
      },
      "outputs": [],
      "source": [
        "ft_model_vec = fasttext.load_model('rudrec_fasttext_model.bin')\n",
        "fasttext.util.reduce_model(ft_model_vec, 50)"
      ]
    },
    {
      "cell_type": "markdown",
      "metadata": {
        "id": "R5iCnkFAJX2e"
      },
      "source": [
        "Для каждого примера вычисляется усредненный по всем словам в примере вектор."
      ]
    },
    {
      "cell_type": "code",
      "execution_count": 43,
      "metadata": {
        "id": "xZf75QaNxe6h"
      },
      "outputs": [],
      "source": [
        "train_embeddings = np.vstack(train.dis_features.map(ft_model_vec.get_sentence_vector).values)\n",
        "test_embeddings = np.vstack(test.dis_features.map(ft_model_vec.get_sentence_vector).values)"
      ]
    },
    {
      "cell_type": "markdown",
      "metadata": {
        "id": "fiaQ5QTOxiQM"
      },
      "source": [
        "# OneVsRest-Catboost модель"
      ]
    },
    {
      "cell_type": "markdown",
      "metadata": {
        "id": "BQTLExpUJtoX"
      },
      "source": [
        "Данная модель была в бейзлайне и было проверено, что она дает хорошие результаты на векторах от fasttext модели."
      ]
    },
    {
      "cell_type": "code",
      "execution_count": 44,
      "metadata": {
        "id": "k5_WjPPoxgfU"
      },
      "outputs": [],
      "source": [
        "X_train, X_val, y_train, y_val = train_test_split(pd.DataFrame(train_embeddings), train[train.columns[-11:]], train_size=train_size, shuffle=False)"
      ]
    },
    {
      "cell_type": "code",
      "execution_count": null,
      "metadata": {
        "id": "I7AsBnxPxwHo"
      },
      "outputs": [],
      "source": [
        "model = OneVsRestClassifier(estimator=CatBoostClassifier(iterations = 400, random_seed=SEED,\n",
        "                                                         verbose = 50, allow_writing_files=False))\n",
        "model.fit(X_train, y_train)"
      ]
    },
    {
      "attachments": {},
      "cell_type": "markdown",
      "metadata": {
        "id": "7FuFbE551T6x"
      },
      "source": [
        "# Подсчет метрики"
      ]
    },
    {
      "cell_type": "markdown",
      "metadata": {
        "id": "VRcgbREix1JH"
      },
      "source": [
        "Метрика для OneVsRest-Catboost модели"
      ]
    },
    {
      "cell_type": "code",
      "execution_count": 46,
      "metadata": {
        "colab": {
          "base_uri": "https://localhost:8080/"
        },
        "id": "hOAtRf161T6z",
        "outputId": "b5d454fa-224e-4dd7-c148-1478280746d5"
      },
      "outputs": [
        {
          "data": {
            "text/plain": [
              "0.23462034052264963"
            ]
          },
          "execution_count": 46,
          "metadata": {},
          "output_type": "execute_result"
        }
      ],
      "source": [
        "log_loss_score(y_val, model.predict_proba(X_val))"
      ]
    },
    {
      "cell_type": "markdown",
      "metadata": {
        "id": "WhzaNA_9x67u"
      },
      "source": [
        "Усредним предсказания нейронки и модели выше"
      ]
    },
    {
      "cell_type": "code",
      "execution_count": null,
      "metadata": {
        "id": "jDd-IETsw_hX"
      },
      "outputs": [],
      "source": [
        "outputs = trainer.predict(datasets['test'])\n",
        "predictions = torch.sigmoid(torch.from_numpy(outputs.predictions)).numpy()"
      ]
    },
    {
      "cell_type": "code",
      "execution_count": 49,
      "metadata": {
        "colab": {
          "base_uri": "https://localhost:8080/"
        },
        "id": "BDkZT9sKyOav",
        "outputId": "5a459b2f-642d-4974-9989-5fbdf0bd1878"
      },
      "outputs": [
        {
          "data": {
            "text/plain": [
              "0.192663341894461"
            ]
          },
          "execution_count": 49,
          "metadata": {},
          "output_type": "execute_result"
        }
      ],
      "source": [
        "ensemble_preds = (model.predict_proba(X_val) + predictions) / 2.\n",
        "log_loss_score(y_val, ensemble_preds)"
      ]
    },
    {
      "cell_type": "markdown",
      "metadata": {
        "id": "0HCwJHzAXmV7"
      },
      "source": [
        "# Результаты"
      ]
    },
    {
      "cell_type": "markdown",
      "metadata": {
        "id": "XlD1kJjuXryp"
      },
      "source": [
        "||Logloss|\n",
        "|-|-|\n",
        "|Бейзлайн|0.3409663042406871|\n",
        "|Нейронная сеть*|0.2343362271785736|\n",
        "|FastText + CatBoost|0.23462034052264963|\n",
        "|Ансамбль**|0.19626982821112623|\n",
        "\n",
        "*Нейронная сеть - трансформер ruBert-base от сбера\n",
        "\n",
        "**Ансамбль - усредненные предсказания нейронной сети и FastText + CatBoost"
      ]
    },
    {
      "cell_type": "markdown",
      "metadata": {
        "id": "n-6VNxxzZgxu"
      },
      "source": [
        "# Выводы\n",
        "\n",
        "По итогу, нет заметной разницы в лоссе между нейронной сетью и моделью fasttext+catboost. Но при этом если нейронной сети для быстрой работы нужна видеокарта, то вторая модель работает уже просто на процессоре, при этом колаб для работы выделяет очень мощную видеокарту и крайне посредственный процессор.\n",
        "\n",
        "Также fasttext модель в связке fasttext+catboost может быть сжата (например, как описано в этой статье https://habr.com/ru/post/582980/) и таким образом это решение можно сделать ещё менее требовательным к ресурсам.\n",
        "\n",
        "Ансамбль хоть и показывает улучшение, но если выбирать решение для прода, то оно не подходит, так как требует нейронку, а это требует гораздо больших ресурсов и следовательно больше денег. Поэтому, в итоге наилучшим решением является fasttext+catboost."
      ]
    },
    {
      "cell_type": "code",
      "execution_count": null,
      "metadata": {
        "id": "5d5Y1sPxLQ1u"
      },
      "outputs": [],
      "source": []
    },
    {
      "cell_type": "code",
      "execution_count": null,
      "metadata": {
        "id": "3_0M7Zw_Nu-q"
      },
      "outputs": [],
      "source": []
    }
  ],
  "metadata": {
    "accelerator": "GPU",
    "colab": {
      "collapsed_sections": [],
      "name": "Индивидуальный проект",
      "provenance": []
    },
    "kernelspec": {
      "display_name": "Python 3",
      "language": "python",
      "name": "python3"
    },
    "language_info": {
      "codemirror_mode": {
        "name": "ipython",
        "version": 3
      },
      "file_extension": ".py",
      "mimetype": "text/x-python",
      "name": "python",
      "nbconvert_exporter": "python",
      "pygments_lexer": "ipython3",
      "version": "3.8.6"
    },
    "widgets": {
      "application/vnd.jupyter.widget-state+json": {
        "034a5baf5e174e468526dcf171f88444": {
          "model_module": "@jupyter-widgets/controls",
          "model_module_version": "1.5.0",
          "model_name": "HTMLModel",
          "state": {
            "_dom_classes": [],
            "_model_module": "@jupyter-widgets/controls",
            "_model_module_version": "1.5.0",
            "_model_name": "HTMLModel",
            "_view_count": null,
            "_view_module": "@jupyter-widgets/controls",
            "_view_module_version": "1.5.0",
            "_view_name": "HTMLView",
            "description": "",
            "description_tooltip": null,
            "layout": "IPY_MODEL_c4ed873f0c174811bf99728ace09700d",
            "placeholder": "​",
            "style": "IPY_MODEL_165bc86afb634e19b66e6d87d802e738",
            "value": "100%"
          }
        },
        "03aae5fbaddd480d989866c6b6f2f414": {
          "model_module": "@jupyter-widgets/base",
          "model_module_version": "1.2.0",
          "model_name": "LayoutModel",
          "state": {
            "_model_module": "@jupyter-widgets/base",
            "_model_module_version": "1.2.0",
            "_model_name": "LayoutModel",
            "_view_count": null,
            "_view_module": "@jupyter-widgets/base",
            "_view_module_version": "1.2.0",
            "_view_name": "LayoutView",
            "align_content": null,
            "align_items": null,
            "align_self": null,
            "border": null,
            "bottom": null,
            "display": null,
            "flex": null,
            "flex_flow": null,
            "grid_area": null,
            "grid_auto_columns": null,
            "grid_auto_flow": null,
            "grid_auto_rows": null,
            "grid_column": null,
            "grid_gap": null,
            "grid_row": null,
            "grid_template_areas": null,
            "grid_template_columns": null,
            "grid_template_rows": null,
            "height": null,
            "justify_content": null,
            "justify_items": null,
            "left": null,
            "margin": null,
            "max_height": null,
            "max_width": null,
            "min_height": null,
            "min_width": null,
            "object_fit": null,
            "object_position": null,
            "order": null,
            "overflow": null,
            "overflow_x": null,
            "overflow_y": null,
            "padding": null,
            "right": null,
            "top": null,
            "visibility": null,
            "width": null
          }
        },
        "165bc86afb634e19b66e6d87d802e738": {
          "model_module": "@jupyter-widgets/controls",
          "model_module_version": "1.5.0",
          "model_name": "DescriptionStyleModel",
          "state": {
            "_model_module": "@jupyter-widgets/controls",
            "_model_module_version": "1.5.0",
            "_model_name": "DescriptionStyleModel",
            "_view_count": null,
            "_view_module": "@jupyter-widgets/base",
            "_view_module_version": "1.2.0",
            "_view_name": "StyleView",
            "description_width": ""
          }
        },
        "1c2a1bd13d5d4bedb61b5d528fcb48b0": {
          "model_module": "@jupyter-widgets/controls",
          "model_module_version": "1.5.0",
          "model_name": "HTMLModel",
          "state": {
            "_dom_classes": [],
            "_model_module": "@jupyter-widgets/controls",
            "_model_module_version": "1.5.0",
            "_model_name": "HTMLModel",
            "_view_count": null,
            "_view_module": "@jupyter-widgets/controls",
            "_view_module_version": "1.5.0",
            "_view_name": "HTMLView",
            "description": "",
            "description_tooltip": null,
            "layout": "IPY_MODEL_03aae5fbaddd480d989866c6b6f2f414",
            "placeholder": "​",
            "style": "IPY_MODEL_bf40c2005ca149eb913a84e44fc28ab6",
            "value": " 294/294 [00:07&lt;00:00, 27.22it/s]"
          }
        },
        "21e5dab9c48d4344b3d1020d2d4baafe": {
          "model_module": "@jupyter-widgets/controls",
          "model_module_version": "1.5.0",
          "model_name": "HBoxModel",
          "state": {
            "_dom_classes": [],
            "_model_module": "@jupyter-widgets/controls",
            "_model_module_version": "1.5.0",
            "_model_name": "HBoxModel",
            "_view_count": null,
            "_view_module": "@jupyter-widgets/controls",
            "_view_module_version": "1.5.0",
            "_view_name": "HBoxView",
            "box_style": "",
            "children": [
              "IPY_MODEL_82e879b9ef6f4eb9899bda4d2a667139",
              "IPY_MODEL_6d77f57ffef342f08a072c3c2142981a",
              "IPY_MODEL_a9858d33212f4fdeb3c91682accdf528"
            ],
            "layout": "IPY_MODEL_d24003a50f7d4a0a97b3eb72a9100600"
          }
        },
        "2d6aa450513447af81581c2e45efffe5": {
          "model_module": "@jupyter-widgets/base",
          "model_module_version": "1.2.0",
          "model_name": "LayoutModel",
          "state": {
            "_model_module": "@jupyter-widgets/base",
            "_model_module_version": "1.2.0",
            "_model_name": "LayoutModel",
            "_view_count": null,
            "_view_module": "@jupyter-widgets/base",
            "_view_module_version": "1.2.0",
            "_view_name": "LayoutView",
            "align_content": null,
            "align_items": null,
            "align_self": null,
            "border": null,
            "bottom": null,
            "display": null,
            "flex": null,
            "flex_flow": null,
            "grid_area": null,
            "grid_auto_columns": null,
            "grid_auto_flow": null,
            "grid_auto_rows": null,
            "grid_column": null,
            "grid_gap": null,
            "grid_row": null,
            "grid_template_areas": null,
            "grid_template_columns": null,
            "grid_template_rows": null,
            "height": null,
            "justify_content": null,
            "justify_items": null,
            "left": null,
            "margin": null,
            "max_height": null,
            "max_width": null,
            "min_height": null,
            "min_width": null,
            "object_fit": null,
            "object_position": null,
            "order": null,
            "overflow": null,
            "overflow_x": null,
            "overflow_y": null,
            "padding": null,
            "right": null,
            "top": null,
            "visibility": null,
            "width": null
          }
        },
        "4437a71a4f97450cacbe2f99c469e41a": {
          "model_module": "@jupyter-widgets/base",
          "model_module_version": "1.2.0",
          "model_name": "LayoutModel",
          "state": {
            "_model_module": "@jupyter-widgets/base",
            "_model_module_version": "1.2.0",
            "_model_name": "LayoutModel",
            "_view_count": null,
            "_view_module": "@jupyter-widgets/base",
            "_view_module_version": "1.2.0",
            "_view_name": "LayoutView",
            "align_content": null,
            "align_items": null,
            "align_self": null,
            "border": null,
            "bottom": null,
            "display": null,
            "flex": null,
            "flex_flow": null,
            "grid_area": null,
            "grid_auto_columns": null,
            "grid_auto_flow": null,
            "grid_auto_rows": null,
            "grid_column": null,
            "grid_gap": null,
            "grid_row": null,
            "grid_template_areas": null,
            "grid_template_columns": null,
            "grid_template_rows": null,
            "height": null,
            "justify_content": null,
            "justify_items": null,
            "left": null,
            "margin": null,
            "max_height": null,
            "max_width": null,
            "min_height": null,
            "min_width": null,
            "object_fit": null,
            "object_position": null,
            "order": null,
            "overflow": null,
            "overflow_x": null,
            "overflow_y": null,
            "padding": null,
            "right": null,
            "top": null,
            "visibility": null,
            "width": null
          }
        },
        "46f8e312e9314392a75bf186f5a6e241": {
          "model_module": "@jupyter-widgets/controls",
          "model_module_version": "1.5.0",
          "model_name": "HTMLModel",
          "state": {
            "_dom_classes": [],
            "_model_module": "@jupyter-widgets/controls",
            "_model_module_version": "1.5.0",
            "_model_name": "HTMLModel",
            "_view_count": null,
            "_view_module": "@jupyter-widgets/controls",
            "_view_module_version": "1.5.0",
            "_view_name": "HTMLView",
            "description": "",
            "description_tooltip": null,
            "layout": "IPY_MODEL_c429d5c4b10a40749d52550323868805",
            "placeholder": "​",
            "style": "IPY_MODEL_b1e68a5048c4442799865b3f8a2ca959",
            "value": "100%"
          }
        },
        "52855ab34b594a9e96940917e357b554": {
          "model_module": "@jupyter-widgets/controls",
          "model_module_version": "1.5.0",
          "model_name": "DescriptionStyleModel",
          "state": {
            "_model_module": "@jupyter-widgets/controls",
            "_model_module_version": "1.5.0",
            "_model_name": "DescriptionStyleModel",
            "_view_count": null,
            "_view_module": "@jupyter-widgets/base",
            "_view_module_version": "1.2.0",
            "_view_name": "StyleView",
            "description_width": ""
          }
        },
        "5d5ec3cd3df743fc9128e02402240287": {
          "model_module": "@jupyter-widgets/controls",
          "model_module_version": "1.5.0",
          "model_name": "FloatProgressModel",
          "state": {
            "_dom_classes": [],
            "_model_module": "@jupyter-widgets/controls",
            "_model_module_version": "1.5.0",
            "_model_name": "FloatProgressModel",
            "_view_count": null,
            "_view_module": "@jupyter-widgets/controls",
            "_view_module_version": "1.5.0",
            "_view_name": "ProgressView",
            "bar_style": "success",
            "description": "",
            "description_tooltip": null,
            "layout": "IPY_MODEL_6578cd9b119b43b6b4cdd66c520a94e9",
            "max": 294,
            "min": 0,
            "orientation": "horizontal",
            "style": "IPY_MODEL_acff13cd39e848238c25ad2a89c2eaee",
            "value": 294
          }
        },
        "5f8bf165be6644e7862da67a970137f4": {
          "model_module": "@jupyter-widgets/controls",
          "model_module_version": "1.5.0",
          "model_name": "DescriptionStyleModel",
          "state": {
            "_model_module": "@jupyter-widgets/controls",
            "_model_module_version": "1.5.0",
            "_model_name": "DescriptionStyleModel",
            "_view_count": null,
            "_view_module": "@jupyter-widgets/base",
            "_view_module_version": "1.2.0",
            "_view_name": "StyleView",
            "description_width": ""
          }
        },
        "648d2482671a4f42ba14ddb94e032456": {
          "model_module": "@jupyter-widgets/base",
          "model_module_version": "1.2.0",
          "model_name": "LayoutModel",
          "state": {
            "_model_module": "@jupyter-widgets/base",
            "_model_module_version": "1.2.0",
            "_model_name": "LayoutModel",
            "_view_count": null,
            "_view_module": "@jupyter-widgets/base",
            "_view_module_version": "1.2.0",
            "_view_name": "LayoutView",
            "align_content": null,
            "align_items": null,
            "align_self": null,
            "border": null,
            "bottom": null,
            "display": null,
            "flex": null,
            "flex_flow": null,
            "grid_area": null,
            "grid_auto_columns": null,
            "grid_auto_flow": null,
            "grid_auto_rows": null,
            "grid_column": null,
            "grid_gap": null,
            "grid_row": null,
            "grid_template_areas": null,
            "grid_template_columns": null,
            "grid_template_rows": null,
            "height": null,
            "justify_content": null,
            "justify_items": null,
            "left": null,
            "margin": null,
            "max_height": null,
            "max_width": null,
            "min_height": null,
            "min_width": null,
            "object_fit": null,
            "object_position": null,
            "order": null,
            "overflow": null,
            "overflow_x": null,
            "overflow_y": null,
            "padding": null,
            "right": null,
            "top": null,
            "visibility": null,
            "width": null
          }
        },
        "6578cd9b119b43b6b4cdd66c520a94e9": {
          "model_module": "@jupyter-widgets/base",
          "model_module_version": "1.2.0",
          "model_name": "LayoutModel",
          "state": {
            "_model_module": "@jupyter-widgets/base",
            "_model_module_version": "1.2.0",
            "_model_name": "LayoutModel",
            "_view_count": null,
            "_view_module": "@jupyter-widgets/base",
            "_view_module_version": "1.2.0",
            "_view_name": "LayoutView",
            "align_content": null,
            "align_items": null,
            "align_self": null,
            "border": null,
            "bottom": null,
            "display": null,
            "flex": null,
            "flex_flow": null,
            "grid_area": null,
            "grid_auto_columns": null,
            "grid_auto_flow": null,
            "grid_auto_rows": null,
            "grid_column": null,
            "grid_gap": null,
            "grid_row": null,
            "grid_template_areas": null,
            "grid_template_columns": null,
            "grid_template_rows": null,
            "height": null,
            "justify_content": null,
            "justify_items": null,
            "left": null,
            "margin": null,
            "max_height": null,
            "max_width": null,
            "min_height": null,
            "min_width": null,
            "object_fit": null,
            "object_position": null,
            "order": null,
            "overflow": null,
            "overflow_x": null,
            "overflow_y": null,
            "padding": null,
            "right": null,
            "top": null,
            "visibility": null,
            "width": null
          }
        },
        "6d77f57ffef342f08a072c3c2142981a": {
          "model_module": "@jupyter-widgets/controls",
          "model_module_version": "1.5.0",
          "model_name": "FloatProgressModel",
          "state": {
            "_dom_classes": [],
            "_model_module": "@jupyter-widgets/controls",
            "_model_module_version": "1.5.0",
            "_model_name": "FloatProgressModel",
            "_view_count": null,
            "_view_module": "@jupyter-widgets/controls",
            "_view_module_version": "1.5.0",
            "_view_name": "ProgressView",
            "bar_style": "success",
            "description": "",
            "description_tooltip": null,
            "layout": "IPY_MODEL_2d6aa450513447af81581c2e45efffe5",
            "max": 294,
            "min": 0,
            "orientation": "horizontal",
            "style": "IPY_MODEL_e7bfcdb5bfd549b0aa51c1b3a9ecf18f",
            "value": 294
          }
        },
        "77a182320f894c8f87bd6a466f13befa": {
          "model_module": "@jupyter-widgets/controls",
          "model_module_version": "1.5.0",
          "model_name": "ProgressStyleModel",
          "state": {
            "_model_module": "@jupyter-widgets/controls",
            "_model_module_version": "1.5.0",
            "_model_name": "ProgressStyleModel",
            "_view_count": null,
            "_view_module": "@jupyter-widgets/base",
            "_view_module_version": "1.2.0",
            "_view_name": "StyleView",
            "bar_color": null,
            "description_width": ""
          }
        },
        "7c30d935d3fd4740bebd58c89573b8c5": {
          "model_module": "@jupyter-widgets/base",
          "model_module_version": "1.2.0",
          "model_name": "LayoutModel",
          "state": {
            "_model_module": "@jupyter-widgets/base",
            "_model_module_version": "1.2.0",
            "_model_name": "LayoutModel",
            "_view_count": null,
            "_view_module": "@jupyter-widgets/base",
            "_view_module_version": "1.2.0",
            "_view_name": "LayoutView",
            "align_content": null,
            "align_items": null,
            "align_self": null,
            "border": null,
            "bottom": null,
            "display": null,
            "flex": null,
            "flex_flow": null,
            "grid_area": null,
            "grid_auto_columns": null,
            "grid_auto_flow": null,
            "grid_auto_rows": null,
            "grid_column": null,
            "grid_gap": null,
            "grid_row": null,
            "grid_template_areas": null,
            "grid_template_columns": null,
            "grid_template_rows": null,
            "height": null,
            "justify_content": null,
            "justify_items": null,
            "left": null,
            "margin": null,
            "max_height": null,
            "max_width": null,
            "min_height": null,
            "min_width": null,
            "object_fit": null,
            "object_position": null,
            "order": null,
            "overflow": null,
            "overflow_x": null,
            "overflow_y": null,
            "padding": null,
            "right": null,
            "top": null,
            "visibility": null,
            "width": null
          }
        },
        "82e879b9ef6f4eb9899bda4d2a667139": {
          "model_module": "@jupyter-widgets/controls",
          "model_module_version": "1.5.0",
          "model_name": "HTMLModel",
          "state": {
            "_dom_classes": [],
            "_model_module": "@jupyter-widgets/controls",
            "_model_module_version": "1.5.0",
            "_model_name": "HTMLModel",
            "_view_count": null,
            "_view_module": "@jupyter-widgets/controls",
            "_view_module_version": "1.5.0",
            "_view_name": "HTMLView",
            "description": "",
            "description_tooltip": null,
            "layout": "IPY_MODEL_7c30d935d3fd4740bebd58c89573b8c5",
            "placeholder": "​",
            "style": "IPY_MODEL_5f8bf165be6644e7862da67a970137f4",
            "value": "100%"
          }
        },
        "8f978b9bc8c54598af604adf352de549": {
          "model_module": "@jupyter-widgets/controls",
          "model_module_version": "1.5.0",
          "model_name": "FloatProgressModel",
          "state": {
            "_dom_classes": [],
            "_model_module": "@jupyter-widgets/controls",
            "_model_module_version": "1.5.0",
            "_model_name": "FloatProgressModel",
            "_view_count": null,
            "_view_module": "@jupyter-widgets/controls",
            "_view_module_version": "1.5.0",
            "_view_name": "ProgressView",
            "bar_style": "success",
            "description": "",
            "description_tooltip": null,
            "layout": "IPY_MODEL_aee69754f94743479fb61a9d9572a59e",
            "max": 99,
            "min": 0,
            "orientation": "horizontal",
            "style": "IPY_MODEL_77a182320f894c8f87bd6a466f13befa",
            "value": 99
          }
        },
        "926dcff375eb42c98b45445d0ba5b28d": {
          "model_module": "@jupyter-widgets/controls",
          "model_module_version": "1.5.0",
          "model_name": "HBoxModel",
          "state": {
            "_dom_classes": [],
            "_model_module": "@jupyter-widgets/controls",
            "_model_module_version": "1.5.0",
            "_model_name": "HBoxModel",
            "_view_count": null,
            "_view_module": "@jupyter-widgets/controls",
            "_view_module_version": "1.5.0",
            "_view_name": "HBoxView",
            "box_style": "",
            "children": [
              "IPY_MODEL_46f8e312e9314392a75bf186f5a6e241",
              "IPY_MODEL_8f978b9bc8c54598af604adf352de549",
              "IPY_MODEL_ed1783b148bc4080945d85e5dd5c78c4"
            ],
            "layout": "IPY_MODEL_648d2482671a4f42ba14ddb94e032456"
          }
        },
        "a75e801d1fd945d5b032f2b62eb321e5": {
          "model_module": "@jupyter-widgets/controls",
          "model_module_version": "1.5.0",
          "model_name": "HBoxModel",
          "state": {
            "_dom_classes": [],
            "_model_module": "@jupyter-widgets/controls",
            "_model_module_version": "1.5.0",
            "_model_name": "HBoxModel",
            "_view_count": null,
            "_view_module": "@jupyter-widgets/controls",
            "_view_module_version": "1.5.0",
            "_view_name": "HBoxView",
            "box_style": "",
            "children": [
              "IPY_MODEL_034a5baf5e174e468526dcf171f88444",
              "IPY_MODEL_5d5ec3cd3df743fc9128e02402240287",
              "IPY_MODEL_1c2a1bd13d5d4bedb61b5d528fcb48b0"
            ],
            "layout": "IPY_MODEL_e8e8d1d0b3e644ec92a0775a3588d6c9"
          }
        },
        "a9858d33212f4fdeb3c91682accdf528": {
          "model_module": "@jupyter-widgets/controls",
          "model_module_version": "1.5.0",
          "model_name": "HTMLModel",
          "state": {
            "_dom_classes": [],
            "_model_module": "@jupyter-widgets/controls",
            "_model_module_version": "1.5.0",
            "_model_name": "HTMLModel",
            "_view_count": null,
            "_view_module": "@jupyter-widgets/controls",
            "_view_module_version": "1.5.0",
            "_view_name": "HTMLView",
            "description": "",
            "description_tooltip": null,
            "layout": "IPY_MODEL_4437a71a4f97450cacbe2f99c469e41a",
            "placeholder": "​",
            "style": "IPY_MODEL_52855ab34b594a9e96940917e357b554",
            "value": " 294/294 [00:07&lt;00:00, 38.97it/s]"
          }
        },
        "acff13cd39e848238c25ad2a89c2eaee": {
          "model_module": "@jupyter-widgets/controls",
          "model_module_version": "1.5.0",
          "model_name": "ProgressStyleModel",
          "state": {
            "_model_module": "@jupyter-widgets/controls",
            "_model_module_version": "1.5.0",
            "_model_name": "ProgressStyleModel",
            "_view_count": null,
            "_view_module": "@jupyter-widgets/base",
            "_view_module_version": "1.2.0",
            "_view_name": "StyleView",
            "bar_color": null,
            "description_width": ""
          }
        },
        "aee69754f94743479fb61a9d9572a59e": {
          "model_module": "@jupyter-widgets/base",
          "model_module_version": "1.2.0",
          "model_name": "LayoutModel",
          "state": {
            "_model_module": "@jupyter-widgets/base",
            "_model_module_version": "1.2.0",
            "_model_name": "LayoutModel",
            "_view_count": null,
            "_view_module": "@jupyter-widgets/base",
            "_view_module_version": "1.2.0",
            "_view_name": "LayoutView",
            "align_content": null,
            "align_items": null,
            "align_self": null,
            "border": null,
            "bottom": null,
            "display": null,
            "flex": null,
            "flex_flow": null,
            "grid_area": null,
            "grid_auto_columns": null,
            "grid_auto_flow": null,
            "grid_auto_rows": null,
            "grid_column": null,
            "grid_gap": null,
            "grid_row": null,
            "grid_template_areas": null,
            "grid_template_columns": null,
            "grid_template_rows": null,
            "height": null,
            "justify_content": null,
            "justify_items": null,
            "left": null,
            "margin": null,
            "max_height": null,
            "max_width": null,
            "min_height": null,
            "min_width": null,
            "object_fit": null,
            "object_position": null,
            "order": null,
            "overflow": null,
            "overflow_x": null,
            "overflow_y": null,
            "padding": null,
            "right": null,
            "top": null,
            "visibility": null,
            "width": null
          }
        },
        "b0947989692a4133afbc10844a372cfe": {
          "model_module": "@jupyter-widgets/controls",
          "model_module_version": "1.5.0",
          "model_name": "DescriptionStyleModel",
          "state": {
            "_model_module": "@jupyter-widgets/controls",
            "_model_module_version": "1.5.0",
            "_model_name": "DescriptionStyleModel",
            "_view_count": null,
            "_view_module": "@jupyter-widgets/base",
            "_view_module_version": "1.2.0",
            "_view_name": "StyleView",
            "description_width": ""
          }
        },
        "b1e68a5048c4442799865b3f8a2ca959": {
          "model_module": "@jupyter-widgets/controls",
          "model_module_version": "1.5.0",
          "model_name": "DescriptionStyleModel",
          "state": {
            "_model_module": "@jupyter-widgets/controls",
            "_model_module_version": "1.5.0",
            "_model_name": "DescriptionStyleModel",
            "_view_count": null,
            "_view_module": "@jupyter-widgets/base",
            "_view_module_version": "1.2.0",
            "_view_name": "StyleView",
            "description_width": ""
          }
        },
        "bf40c2005ca149eb913a84e44fc28ab6": {
          "model_module": "@jupyter-widgets/controls",
          "model_module_version": "1.5.0",
          "model_name": "DescriptionStyleModel",
          "state": {
            "_model_module": "@jupyter-widgets/controls",
            "_model_module_version": "1.5.0",
            "_model_name": "DescriptionStyleModel",
            "_view_count": null,
            "_view_module": "@jupyter-widgets/base",
            "_view_module_version": "1.2.0",
            "_view_name": "StyleView",
            "description_width": ""
          }
        },
        "c429d5c4b10a40749d52550323868805": {
          "model_module": "@jupyter-widgets/base",
          "model_module_version": "1.2.0",
          "model_name": "LayoutModel",
          "state": {
            "_model_module": "@jupyter-widgets/base",
            "_model_module_version": "1.2.0",
            "_model_name": "LayoutModel",
            "_view_count": null,
            "_view_module": "@jupyter-widgets/base",
            "_view_module_version": "1.2.0",
            "_view_name": "LayoutView",
            "align_content": null,
            "align_items": null,
            "align_self": null,
            "border": null,
            "bottom": null,
            "display": null,
            "flex": null,
            "flex_flow": null,
            "grid_area": null,
            "grid_auto_columns": null,
            "grid_auto_flow": null,
            "grid_auto_rows": null,
            "grid_column": null,
            "grid_gap": null,
            "grid_row": null,
            "grid_template_areas": null,
            "grid_template_columns": null,
            "grid_template_rows": null,
            "height": null,
            "justify_content": null,
            "justify_items": null,
            "left": null,
            "margin": null,
            "max_height": null,
            "max_width": null,
            "min_height": null,
            "min_width": null,
            "object_fit": null,
            "object_position": null,
            "order": null,
            "overflow": null,
            "overflow_x": null,
            "overflow_y": null,
            "padding": null,
            "right": null,
            "top": null,
            "visibility": null,
            "width": null
          }
        },
        "c4ed873f0c174811bf99728ace09700d": {
          "model_module": "@jupyter-widgets/base",
          "model_module_version": "1.2.0",
          "model_name": "LayoutModel",
          "state": {
            "_model_module": "@jupyter-widgets/base",
            "_model_module_version": "1.2.0",
            "_model_name": "LayoutModel",
            "_view_count": null,
            "_view_module": "@jupyter-widgets/base",
            "_view_module_version": "1.2.0",
            "_view_name": "LayoutView",
            "align_content": null,
            "align_items": null,
            "align_self": null,
            "border": null,
            "bottom": null,
            "display": null,
            "flex": null,
            "flex_flow": null,
            "grid_area": null,
            "grid_auto_columns": null,
            "grid_auto_flow": null,
            "grid_auto_rows": null,
            "grid_column": null,
            "grid_gap": null,
            "grid_row": null,
            "grid_template_areas": null,
            "grid_template_columns": null,
            "grid_template_rows": null,
            "height": null,
            "justify_content": null,
            "justify_items": null,
            "left": null,
            "margin": null,
            "max_height": null,
            "max_width": null,
            "min_height": null,
            "min_width": null,
            "object_fit": null,
            "object_position": null,
            "order": null,
            "overflow": null,
            "overflow_x": null,
            "overflow_y": null,
            "padding": null,
            "right": null,
            "top": null,
            "visibility": null,
            "width": null
          }
        },
        "d24003a50f7d4a0a97b3eb72a9100600": {
          "model_module": "@jupyter-widgets/base",
          "model_module_version": "1.2.0",
          "model_name": "LayoutModel",
          "state": {
            "_model_module": "@jupyter-widgets/base",
            "_model_module_version": "1.2.0",
            "_model_name": "LayoutModel",
            "_view_count": null,
            "_view_module": "@jupyter-widgets/base",
            "_view_module_version": "1.2.0",
            "_view_name": "LayoutView",
            "align_content": null,
            "align_items": null,
            "align_self": null,
            "border": null,
            "bottom": null,
            "display": null,
            "flex": null,
            "flex_flow": null,
            "grid_area": null,
            "grid_auto_columns": null,
            "grid_auto_flow": null,
            "grid_auto_rows": null,
            "grid_column": null,
            "grid_gap": null,
            "grid_row": null,
            "grid_template_areas": null,
            "grid_template_columns": null,
            "grid_template_rows": null,
            "height": null,
            "justify_content": null,
            "justify_items": null,
            "left": null,
            "margin": null,
            "max_height": null,
            "max_width": null,
            "min_height": null,
            "min_width": null,
            "object_fit": null,
            "object_position": null,
            "order": null,
            "overflow": null,
            "overflow_x": null,
            "overflow_y": null,
            "padding": null,
            "right": null,
            "top": null,
            "visibility": null,
            "width": null
          }
        },
        "d5115f25458744c182befb7e75960912": {
          "model_module": "@jupyter-widgets/base",
          "model_module_version": "1.2.0",
          "model_name": "LayoutModel",
          "state": {
            "_model_module": "@jupyter-widgets/base",
            "_model_module_version": "1.2.0",
            "_model_name": "LayoutModel",
            "_view_count": null,
            "_view_module": "@jupyter-widgets/base",
            "_view_module_version": "1.2.0",
            "_view_name": "LayoutView",
            "align_content": null,
            "align_items": null,
            "align_self": null,
            "border": null,
            "bottom": null,
            "display": null,
            "flex": null,
            "flex_flow": null,
            "grid_area": null,
            "grid_auto_columns": null,
            "grid_auto_flow": null,
            "grid_auto_rows": null,
            "grid_column": null,
            "grid_gap": null,
            "grid_row": null,
            "grid_template_areas": null,
            "grid_template_columns": null,
            "grid_template_rows": null,
            "height": null,
            "justify_content": null,
            "justify_items": null,
            "left": null,
            "margin": null,
            "max_height": null,
            "max_width": null,
            "min_height": null,
            "min_width": null,
            "object_fit": null,
            "object_position": null,
            "order": null,
            "overflow": null,
            "overflow_x": null,
            "overflow_y": null,
            "padding": null,
            "right": null,
            "top": null,
            "visibility": null,
            "width": null
          }
        },
        "e7bfcdb5bfd549b0aa51c1b3a9ecf18f": {
          "model_module": "@jupyter-widgets/controls",
          "model_module_version": "1.5.0",
          "model_name": "ProgressStyleModel",
          "state": {
            "_model_module": "@jupyter-widgets/controls",
            "_model_module_version": "1.5.0",
            "_model_name": "ProgressStyleModel",
            "_view_count": null,
            "_view_module": "@jupyter-widgets/base",
            "_view_module_version": "1.2.0",
            "_view_name": "StyleView",
            "bar_color": null,
            "description_width": ""
          }
        },
        "e8e8d1d0b3e644ec92a0775a3588d6c9": {
          "model_module": "@jupyter-widgets/base",
          "model_module_version": "1.2.0",
          "model_name": "LayoutModel",
          "state": {
            "_model_module": "@jupyter-widgets/base",
            "_model_module_version": "1.2.0",
            "_model_name": "LayoutModel",
            "_view_count": null,
            "_view_module": "@jupyter-widgets/base",
            "_view_module_version": "1.2.0",
            "_view_name": "LayoutView",
            "align_content": null,
            "align_items": null,
            "align_self": null,
            "border": null,
            "bottom": null,
            "display": null,
            "flex": null,
            "flex_flow": null,
            "grid_area": null,
            "grid_auto_columns": null,
            "grid_auto_flow": null,
            "grid_auto_rows": null,
            "grid_column": null,
            "grid_gap": null,
            "grid_row": null,
            "grid_template_areas": null,
            "grid_template_columns": null,
            "grid_template_rows": null,
            "height": null,
            "justify_content": null,
            "justify_items": null,
            "left": null,
            "margin": null,
            "max_height": null,
            "max_width": null,
            "min_height": null,
            "min_width": null,
            "object_fit": null,
            "object_position": null,
            "order": null,
            "overflow": null,
            "overflow_x": null,
            "overflow_y": null,
            "padding": null,
            "right": null,
            "top": null,
            "visibility": null,
            "width": null
          }
        },
        "ed1783b148bc4080945d85e5dd5c78c4": {
          "model_module": "@jupyter-widgets/controls",
          "model_module_version": "1.5.0",
          "model_name": "HTMLModel",
          "state": {
            "_dom_classes": [],
            "_model_module": "@jupyter-widgets/controls",
            "_model_module_version": "1.5.0",
            "_model_name": "HTMLModel",
            "_view_count": null,
            "_view_module": "@jupyter-widgets/controls",
            "_view_module_version": "1.5.0",
            "_view_name": "HTMLView",
            "description": "",
            "description_tooltip": null,
            "layout": "IPY_MODEL_d5115f25458744c182befb7e75960912",
            "placeholder": "​",
            "style": "IPY_MODEL_b0947989692a4133afbc10844a372cfe",
            "value": " 99/99 [00:02&lt;00:00, 38.42it/s]"
          }
        }
      }
    }
  },
  "nbformat": 4,
  "nbformat_minor": 0
}
